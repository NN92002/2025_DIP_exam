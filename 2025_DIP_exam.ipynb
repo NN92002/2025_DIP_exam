{
 "cells": [
  {
   "cell_type": "markdown",
   "metadata": {},
   "source": [
    "# NEAF DIP EXAM\n",
    "name:"
   ]
  },
  {
   "cell_type": "markdown",
   "metadata": {},
   "source": [
    "---\n",
    "### Please achieve the following image transformation: change image A into image B."
   ]
  },
  {
   "cell_type": "markdown",
   "metadata": {},
   "source": [
    "### keywords:\n",
    "cv2.blur(img, (3, 3))  \n",
    "cv2.dilate(img, kernel)  \n",
    "cv2.inRange(img, np.array([16, 26, 120]), np.array([74, 255, 255]))   \n",
    "cv2.equalizeHist(gray_img)  \n",
    "cv2.bitwise_and(img1, img2, mask)    \n",
    "cv2.IMREAD_GRAYSCALE  \n",
    "cv2.drawContours(img, contours, -1, (0, 255, 0), 1)  \n",
    "cv2.cvtColor(img, cv2.COLOR_RGB2GRAY)  \n",
    "cv2.rectangle(result, (X, Y), (X+W, Y+H), (0, 0, 255), 2)   \n",
    "cv2.medianBlur(img, 3)  \n",
    "cv2.boundingRect  \n",
    "cv2.morphologyEx(img, cv2.MORPH_CLOSE, kernel)   \n",
    "cv2.threshold(img, 0, 255, cv2.THRESH_BINARY+cv2.THRESH_OTSU)  \n",
    "cv2.findContours(img, cv2.RETR_EXTERNAL, cv2.CHAIN_APPROX_SIMPLE)  \n",
    "cv2.cvtColor(img, cv2.COLOR_BGR2RGB)  \n",
    "cv2.getStructuringElement(cv2.MORPH_RECT, (3, 3))  \n",
    "cv2.imwrite('123.jpg', img)  \n",
    "cv2.GaussianBlur(img, (5, 5), 0)  \n",
    "cv2.erode(img, kernel)  \n",
    "cv2.cvtColor(img, cv2.COLOR_BGR2GRAY)  \n",
    "cv2.contourArea(contour)   \n"
   ]
  },
  {
   "cell_type": "markdown",
   "metadata": {},
   "source": [
    "---"
   ]
  },
  {
   "cell_type": "markdown",
   "metadata": {},
   "source": [
    "### library"
   ]
  },
  {
   "cell_type": "code",
   "execution_count": 2,
   "metadata": {},
   "outputs": [],
   "source": [
    "\n",
    "from matplotlib import pyplot as plt\n",
    "import numpy as np\n",
    "import cv2"
   ]
  },
  {
   "cell_type": "markdown",
   "metadata": {},
   "source": [
    "---"
   ]
  },
  {
   "cell_type": "markdown",
   "metadata": {},
   "source": [
    "### 1. (5%)\n",
    "#### fig.a  \n",
    "<img src=\"img/5.jpg\" width=\"20%\" heught=\"20%\">  \n",
    "\n",
    "#### fig.b  \n",
    "<img src=\"img/6.jpg\" width=\"20%\" heught=\"20%\">  "
   ]
  },
  {
   "cell_type": "code",
   "execution_count": 4,
   "metadata": {},
   "outputs": [
    {
     "data": {
      "text/plain": [
       "'\\nenter your code\\n'"
      ]
     },
     "execution_count": 4,
     "metadata": {},
     "output_type": "execute_result"
    }
   ],
   "source": [
    "# read image\n",
    "img_a = cv2.imread(\"img/5.jpg\")\n",
    "\n",
    "'''\n",
    "enter your code\n",
    "'''\n",
    "# show image\n",
    "plt.imshow(img_a)\n",
    "plt.show()\n",
    "plt.imshow(img_b, 'gray')\n",
    "plt.show()\n"
   ]
  },
  {
   "cell_type": "markdown",
   "metadata": {},
   "source": [
    "---"
   ]
  },
  {
   "cell_type": "markdown",
   "metadata": {},
   "source": [
    "### 2. (5%)\n",
    "#### fig.a  \n",
    "<img src=\"img/1.jpg\" width=\"15%\" heught=\"15%\">  \n",
    "\n",
    "#### fig.b  \n",
    "<img src=\"img/2.jpg\" width=\"15%\" heught=\"15%\">  "
   ]
  },
  {
   "cell_type": "code",
   "execution_count": 5,
   "metadata": {},
   "outputs": [
    {
     "data": {
      "text/plain": [
       "'\\nenter your code\\n'"
      ]
     },
     "execution_count": 5,
     "metadata": {},
     "output_type": "execute_result"
    }
   ],
   "source": [
    "# read image\n",
    "img_a = cv2.imread(\"img/1.jpg\",cv2.IMREAD_GRAYSCALE )\n",
    "\n",
    "'''\n",
    "enter your code\n",
    "'''\n",
    "\n",
    "# show image\n",
    "plt.imshow(img_a, 'gray')\n",
    "plt.show()\n",
    "plt.imshow(img_b, 'gray')\n",
    "plt.show()\n",
    "\n"
   ]
  },
  {
   "cell_type": "markdown",
   "metadata": {},
   "source": [
    "---"
   ]
  },
  {
   "cell_type": "markdown",
   "metadata": {},
   "source": [
    "### 3. (5%)\n",
    "#### a圖  \n",
    "<img src=\"img/3.jpg\" width=\"20%\" heught=\"20%\">  \n",
    "\n",
    "#### b圖  \n",
    "<img src=\"img/4.jpg\" width=\"20%\" heught=\"20%\">  "
   ]
  },
  {
   "cell_type": "code",
   "execution_count": 6,
   "metadata": {},
   "outputs": [
    {
     "data": {
      "text/plain": [
       "'\\nenter your code\\n'"
      ]
     },
     "execution_count": 6,
     "metadata": {},
     "output_type": "execute_result"
    }
   ],
   "source": [
    "# read image\n",
    "img_a = cv2.imread(\"img/3.jpg\")\n",
    "\n",
    "'''\n",
    "enter your code\n",
    "'''\n",
    "\n",
    "# show image\n",
    "plt.imshow(img_a)\n",
    "plt.show()\n",
    "plt.imshow(img_b)\n",
    "plt.show()"
   ]
  },
  {
   "cell_type": "markdown",
   "metadata": {},
   "source": [
    "### 4. (10%)\n",
    "#### fig.a  \n",
    "<img src=\"img/7.jpg\" width=\"20%\" heught=\"20%\">  \n",
    "\n",
    "#### fig.b  \n",
    "<img src=\"img/8.jpg\" width=\"20%\" heught=\"20%\">  \n",
    "\n",
    "1. Find the Beluga Whale contours in the  images.(5%)\n",
    "2. Calculate the countours area.(5%)"
   ]
  },
  {
   "cell_type": "code",
   "execution_count": 8,
   "metadata": {},
   "outputs": [
    {
     "data": {
      "text/plain": [
       "'\\nenter your code\\n'"
      ]
     },
     "execution_count": 8,
     "metadata": {},
     "output_type": "execute_result"
    }
   ],
   "source": [
    "img_a = cv2.imread(\"img/7.jpg\")\n",
    "\n",
    "'''\n",
    "enter your code\n",
    "'''\n",
    "\n",
    "# show image\n",
    "plt.imshow(img_a)\n",
    "plt.show()\n",
    "plt.imshow(img_b)\n",
    "plt.show()\n",
    "print('The Beluga Whale area is ',countours_area)"
   ]
  }
 ],
 "metadata": {
  "kernelspec": {
   "display_name": "Python 3",
   "language": "python",
   "name": "python3"
  },
  "language_info": {
   "codemirror_mode": {
    "name": "ipython",
    "version": 3
   },
   "file_extension": ".py",
   "mimetype": "text/x-python",
   "name": "python",
   "nbconvert_exporter": "python",
   "pygments_lexer": "ipython3",
   "version": "3.9.11"
  },
  "orig_nbformat": 4
 },
 "nbformat": 4,
 "nbformat_minor": 2
}
